{
  "nbformat": 4,
  "nbformat_minor": 0,
  "metadata": {
    "colab": {
      "provenance": [],
      "collapsed_sections": []
    },
    "kernelspec": {
      "name": "python3",
      "display_name": "Python 3"
    },
    "language_info": {
      "name": "python"
    }
  },
  "cells": [
    {
      "cell_type": "markdown",
      "source": [
        "#**SPRINT 2**"
      ],
      "metadata": {
        "id": "v-1V9AL-T3rw"
      }
    },
    {
      "cell_type": "markdown",
      "source": [
        "Team ID: PNT2022TMID22022"
      ],
      "metadata": {
        "id": "1pxkOxD3H8vG"
      }
    },
    {
      "cell_type": "markdown",
      "source": [
        "#Importing required Libraries"
      ],
      "metadata": {
        "id": "a7Iyv1_6TSgc"
      }
    },
    {
      "cell_type": "code",
      "execution_count": 1,
      "metadata": {
        "id": "GbE1s4EK2M-K"
      },
      "outputs": [],
      "source": [
        "import numpy\n",
        "import tensorflow"
      ]
    },
    {
      "cell_type": "code",
      "source": [
        "from tensorflow.keras.datasets import mnist \n",
        "from tensorflow.keras.models import Sequential\n",
        "from tensorflow.keras import layers"
      ],
      "metadata": {
        "id": "n-jQf-NL2UVt"
      },
      "execution_count": 2,
      "outputs": []
    },
    {
      "cell_type": "code",
      "source": [
        "from tensorflow.keras.layers import Dense,Flatten\n",
        "from tensorflow.keras.layers import Conv2D\n",
        "from tensorflow import keras\n"
      ],
      "metadata": {
        "id": "4vShgf0_2wXE"
      },
      "execution_count": 3,
      "outputs": []
    },
    {
      "cell_type": "code",
      "source": [
        "from tensorflow.keras.optimizers import Adam\n",
        "from keras.utils import np_utils"
      ],
      "metadata": {
        "id": "GqJuoPly3bZC"
      },
      "execution_count": 4,
      "outputs": []
    },
    {
      "cell_type": "markdown",
      "source": [
        "#Loading dataset"
      ],
      "metadata": {
        "id": "08Awr3Uy4pnN"
      }
    },
    {
      "cell_type": "markdown",
      "source": [
        "Dataset is available in tensorflow dataset repository"
      ],
      "metadata": {
        "id": "ie6rbxsMUTJR"
      }
    },
    {
      "cell_type": "code",
      "source": [
        "(x_train,y_train),(x_test,y_test)=mnist.load_data()"
      ],
      "metadata": {
        "id": "vARTZNF23ip3",
        "colab": {
          "base_uri": "https://localhost:8080/"
        },
        "outputId": "21eba639-b1ff-4c47-d3c6-dd2be89a779f"
      },
      "execution_count": 5,
      "outputs": [
        {
          "output_type": "stream",
          "name": "stdout",
          "text": [
            "Downloading data from https://storage.googleapis.com/tensorflow/tf-keras-datasets/mnist.npz\n",
            "11490434/11490434 [==============================] - 0s 0us/step\n"
          ]
        }
      ]
    },
    {
      "cell_type": "code",
      "source": [
        "print(x_train.shape)\n",
        "print(y_train.shape)"
      ],
      "metadata": {
        "colab": {
          "base_uri": "https://localhost:8080/"
        },
        "id": "h5B66mfa42mJ",
        "outputId": "3ca0d37b-2678-4308-9c58-d8e2fc3c3364"
      },
      "execution_count": 6,
      "outputs": [
        {
          "output_type": "stream",
          "name": "stdout",
          "text": [
            "(60000, 28, 28)\n",
            "(60000,)\n"
          ]
        }
      ]
    },
    {
      "cell_type": "markdown",
      "source": [
        "Training Dataset has 60000 images & testing has 10000 images"
      ],
      "metadata": {
        "id": "jfOrVvDmUt1S"
      }
    },
    {
      "cell_type": "code",
      "source": [
        "print(x_test.shape)\n",
        "print(y_test.shape)"
      ],
      "metadata": {
        "colab": {
          "base_uri": "https://localhost:8080/"
        },
        "id": "7IxI2C975Ur2",
        "outputId": "00dea790-eb59-4559-a51f-ad0cfd53d642"
      },
      "execution_count": 7,
      "outputs": [
        {
          "output_type": "stream",
          "name": "stdout",
          "text": [
            "(10000, 28, 28)\n",
            "(10000,)\n"
          ]
        }
      ]
    },
    {
      "cell_type": "markdown",
      "source": [
        "#  Analyze the data"
      ],
      "metadata": {
        "id": "yuQLQMWX6Ttm"
      }
    },
    {
      "cell_type": "code",
      "source": [
        "\n",
        "x_train[3]"
      ],
      "metadata": {
        "colab": {
          "base_uri": "https://localhost:8080/"
        },
        "id": "ymMXm1L15Ziv",
        "outputId": "4ba0edb4-6a7a-486f-c920-29fc87879bd4"
      },
      "execution_count": 8,
      "outputs": [
        {
          "output_type": "execute_result",
          "data": {
            "text/plain": [
              "array([[  0,   0,   0,   0,   0,   0,   0,   0,   0,   0,   0,   0,   0,\n",
              "          0,   0,   0,   0,   0,   0,   0,   0,   0,   0,   0,   0,   0,\n",
              "          0,   0],\n",
              "       [  0,   0,   0,   0,   0,   0,   0,   0,   0,   0,   0,   0,   0,\n",
              "          0,   0,   0,   0,   0,   0,   0,   0,   0,   0,   0,   0,   0,\n",
              "          0,   0],\n",
              "       [  0,   0,   0,   0,   0,   0,   0,   0,   0,   0,   0,   0,   0,\n",
              "          0,   0,   0,   0,   0,   0,   0,   0,   0,   0,   0,   0,   0,\n",
              "          0,   0],\n",
              "       [  0,   0,   0,   0,   0,   0,   0,   0,   0,   0,   0,   0,   0,\n",
              "          0,   0,   0,   0,   0,   0,   0,   0,   0,   0,   0,   0,   0,\n",
              "          0,   0],\n",
              "       [  0,   0,   0,   0,   0,   0,   0,   0,   0,   0,   0,   0,   0,\n",
              "          0,   0,   0,   0,   0,   0,   0,   0,   0,   0,   0,   0,   0,\n",
              "          0,   0],\n",
              "       [  0,   0,   0,   0,   0,   0,   0,   0,   0,   0,   0,   0,   0,\n",
              "          0,   0,   0,   0,   0, 124, 253, 255,  63,   0,   0,   0,   0,\n",
              "          0,   0],\n",
              "       [  0,   0,   0,   0,   0,   0,   0,   0,   0,   0,   0,   0,   0,\n",
              "          0,   0,   0,   0,  96, 244, 251, 253,  62,   0,   0,   0,   0,\n",
              "          0,   0],\n",
              "       [  0,   0,   0,   0,   0,   0,   0,   0,   0,   0,   0,   0,   0,\n",
              "          0,   0,   0,   0, 127, 251, 251, 253,  62,   0,   0,   0,   0,\n",
              "          0,   0],\n",
              "       [  0,   0,   0,   0,   0,   0,   0,   0,   0,   0,   0,   0,   0,\n",
              "          0,   0,   0,  68, 236, 251, 211,  31,   8,   0,   0,   0,   0,\n",
              "          0,   0],\n",
              "       [  0,   0,   0,   0,   0,   0,   0,   0,   0,   0,   0,   0,   0,\n",
              "          0,   0,  60, 228, 251, 251,  94,   0,   0,   0,   0,   0,   0,\n",
              "          0,   0],\n",
              "       [  0,   0,   0,   0,   0,   0,   0,   0,   0,   0,   0,   0,   0,\n",
              "          0,   0, 155, 253, 253, 189,   0,   0,   0,   0,   0,   0,   0,\n",
              "          0,   0],\n",
              "       [  0,   0,   0,   0,   0,   0,   0,   0,   0,   0,   0,   0,   0,\n",
              "          0,  20, 253, 251, 235,  66,   0,   0,   0,   0,   0,   0,   0,\n",
              "          0,   0],\n",
              "       [  0,   0,   0,   0,   0,   0,   0,   0,   0,   0,   0,   0,   0,\n",
              "         32, 205, 253, 251, 126,   0,   0,   0,   0,   0,   0,   0,   0,\n",
              "          0,   0],\n",
              "       [  0,   0,   0,   0,   0,   0,   0,   0,   0,   0,   0,   0,   0,\n",
              "        104, 251, 253, 184,  15,   0,   0,   0,   0,   0,   0,   0,   0,\n",
              "          0,   0],\n",
              "       [  0,   0,   0,   0,   0,   0,   0,   0,   0,   0,   0,   0,  80,\n",
              "        240, 251, 193,  23,   0,   0,   0,   0,   0,   0,   0,   0,   0,\n",
              "          0,   0],\n",
              "       [  0,   0,   0,   0,   0,   0,   0,   0,   0,   0,   0,  32, 253,\n",
              "        253, 253, 159,   0,   0,   0,   0,   0,   0,   0,   0,   0,   0,\n",
              "          0,   0],\n",
              "       [  0,   0,   0,   0,   0,   0,   0,   0,   0,   0,   0, 151, 251,\n",
              "        251, 251,  39,   0,   0,   0,   0,   0,   0,   0,   0,   0,   0,\n",
              "          0,   0],\n",
              "       [  0,   0,   0,   0,   0,   0,   0,   0,   0,   0,  48, 221, 251,\n",
              "        251, 172,   0,   0,   0,   0,   0,   0,   0,   0,   0,   0,   0,\n",
              "          0,   0],\n",
              "       [  0,   0,   0,   0,   0,   0,   0,   0,   0,   0, 234, 251, 251,\n",
              "        196,  12,   0,   0,   0,   0,   0,   0,   0,   0,   0,   0,   0,\n",
              "          0,   0],\n",
              "       [  0,   0,   0,   0,   0,   0,   0,   0,   0,   0, 253, 251, 251,\n",
              "         89,   0,   0,   0,   0,   0,   0,   0,   0,   0,   0,   0,   0,\n",
              "          0,   0],\n",
              "       [  0,   0,   0,   0,   0,   0,   0,   0,   0, 159, 255, 253, 253,\n",
              "         31,   0,   0,   0,   0,   0,   0,   0,   0,   0,   0,   0,   0,\n",
              "          0,   0],\n",
              "       [  0,   0,   0,   0,   0,   0,   0,   0,  48, 228, 253, 247, 140,\n",
              "          8,   0,   0,   0,   0,   0,   0,   0,   0,   0,   0,   0,   0,\n",
              "          0,   0],\n",
              "       [  0,   0,   0,   0,   0,   0,   0,   0,  64, 251, 253, 220,   0,\n",
              "          0,   0,   0,   0,   0,   0,   0,   0,   0,   0,   0,   0,   0,\n",
              "          0,   0],\n",
              "       [  0,   0,   0,   0,   0,   0,   0,   0,  64, 251, 253, 220,   0,\n",
              "          0,   0,   0,   0,   0,   0,   0,   0,   0,   0,   0,   0,   0,\n",
              "          0,   0],\n",
              "       [  0,   0,   0,   0,   0,   0,   0,   0,  24, 193, 253, 220,   0,\n",
              "          0,   0,   0,   0,   0,   0,   0,   0,   0,   0,   0,   0,   0,\n",
              "          0,   0],\n",
              "       [  0,   0,   0,   0,   0,   0,   0,   0,   0,   0,   0,   0,   0,\n",
              "          0,   0,   0,   0,   0,   0,   0,   0,   0,   0,   0,   0,   0,\n",
              "          0,   0],\n",
              "       [  0,   0,   0,   0,   0,   0,   0,   0,   0,   0,   0,   0,   0,\n",
              "          0,   0,   0,   0,   0,   0,   0,   0,   0,   0,   0,   0,   0,\n",
              "          0,   0],\n",
              "       [  0,   0,   0,   0,   0,   0,   0,   0,   0,   0,   0,   0,   0,\n",
              "          0,   0,   0,   0,   0,   0,   0,   0,   0,   0,   0,   0,   0,\n",
              "          0,   0]], dtype=uint8)"
            ]
          },
          "metadata": {},
          "execution_count": 8
        }
      ]
    },
    {
      "cell_type": "code",
      "source": [
        "y_train[3]"
      ],
      "metadata": {
        "colab": {
          "base_uri": "https://localhost:8080/"
        },
        "id": "y_Y-K4br5s5W",
        "outputId": "153dd44d-4fbb-43a9-bc38-1aa8206d61f8"
      },
      "execution_count": 10,
      "outputs": [
        {
          "output_type": "execute_result",
          "data": {
            "text/plain": [
              "1"
            ]
          },
          "metadata": {},
          "execution_count": 10
        }
      ]
    },
    {
      "cell_type": "code",
      "source": [
        "import matplotlib.pyplot as plt"
      ],
      "metadata": {
        "id": "_tOOhXCP5xHC"
      },
      "execution_count": 11,
      "outputs": []
    },
    {
      "cell_type": "code",
      "source": [
        "plt.imshow(x_train[4])"
      ],
      "metadata": {
        "colab": {
          "base_uri": "https://localhost:8080/",
          "height": 282
        },
        "id": "ZyPomAMv5__l",
        "outputId": "e8f75689-d80b-4e59-b23c-a4be3d785282"
      },
      "execution_count": 12,
      "outputs": [
        {
          "output_type": "execute_result",
          "data": {
            "text/plain": [
              "<matplotlib.image.AxesImage at 0x7f0febb8c1d0>"
            ]
          },
          "metadata": {},
          "execution_count": 12
        },
        {
          "output_type": "display_data",
          "data": {
            "text/plain": [
              "<Figure size 432x288 with 1 Axes>"
            ],
            "image/png": "[encoded data removed]"
          },
          "metadata": {
            "needs_background": "light"
          }
        }
      ]
    },
    {
      "cell_type": "markdown",
      "source": [
        "#Reshaping the data"
      ],
      "metadata": {
        "id": "1YwraMad6YBX"
      }
    },
    {
      "cell_type": "markdown",
      "source": [
        "As we are using Deep learning neural network, the input for this network to get trained on should be of higher dimensional. Our dataset is having three-dimensional images so we have to reshape them too higher dimensions"
      ],
      "metadata": {
        "id": "h6F_jj2ATge4"
      }
    },
    {
      "cell_type": "code",
      "source": [
        "x_train=x_train.reshape(60000,28,28,1).astype('float32')\n",
        "x_test=x_test.reshape(10000,28,28,1).astype('float32')"
      ],
      "metadata": {
        "id": "mzSdw2I_6Cz8"
      },
      "execution_count": 13,
      "outputs": []
    },
    {
      "cell_type": "markdown",
      "source": [
        "#Applying one hot encoding"
      ],
      "metadata": {
        "id": "RHpTd7KiTjth"
      }
    },
    {
      "cell_type": "markdown",
      "source": [
        "One hot encoding to convert numerical values to classes where 0 to 9 are 10 seperate classes if value is 5 class 5 is 1 else 0"
      ],
      "metadata": {
        "id": "efIP2wMn7PJT"
      }
    },
    {
      "cell_type": "code",
      "source": [
        "no_of_classes=10\n",
        "y_train=np_utils.to_categorical(y_train,no_of_classes)\n",
        "y_test=np_utils.to_categorical(y_test,no_of_classes)"
      ],
      "metadata": {
        "id": "fZfdru9r60e8"
      },
      "execution_count": 14,
      "outputs": []
    },
    {
      "cell_type": "code",
      "source": [
        "y_test[3]"
      ],
      "metadata": {
        "colab": {
          "base_uri": "https://localhost:8080/"
        },
        "id": "SLqmVvSY8S3D",
        "outputId": "edfbea0b-2fd9-4223-a3a0-644112a0deff"
      },
      "execution_count": 15,
      "outputs": [
        {
          "output_type": "execute_result",
          "data": {
            "text/plain": [
              "array([1., 0., 0., 0., 0., 0., 0., 0., 0., 0.], dtype=float32)"
            ]
          },
          "metadata": {},
          "execution_count": 15
        }
      ]
    },
    {
      "cell_type": "markdown",
      "source": [
        "#Creating the model"
      ],
      "metadata": {
        "id": "7rghHNiOCqIH"
      }
    },
    {
      "cell_type": "code",
      "source": [
        "model=Sequential()\n",
        "\n",
        "model.add(Conv2D(64,(3,3),input_shape=(28,28,1),activation='relu'))\n",
        "model.add(Conv2D(32,(3,3),activation='relu'))\n",
        "\n",
        "model.add(Flatten())\n",
        "model.add(Dense(no_of_classes,activation='softmax'))"
      ],
      "metadata": {
        "id": "BUvkPS3c8Xsu"
      },
      "execution_count": 16,
      "outputs": []
    },
    {
      "cell_type": "markdown",
      "source": [
        "#Compile the model"
      ],
      "metadata": {
        "id": "0x9GWnIaC5I5"
      }
    },
    {
      "cell_type": "code",
      "source": [
        "model.compile(loss='categorical_crossentropy',optimizer='Adam',metrics=['accuracy'])"
      ],
      "metadata": {
        "id": "FpzPxH7gk4oZ"
      },
      "execution_count": 17,
      "outputs": []
    },
    {
      "cell_type": "markdown",
      "source": [
        "#Train the model"
      ],
      "metadata": {
        "id": "XZggjKn2C8jd"
      }
    },
    {
      "cell_type": "code",
      "source": [
        "model.fit(x_train,y_train,validation_data=(x_test,y_test),epochs=5,batch_size=32)"
      ],
      "metadata": {
        "colab": {
          "base_uri": "https://localhost:8080/"
        },
        "id": "utz7egH8mypi",
        "outputId": "53ff0bc6-27cd-4364-e41d-191d706b3e2a"
      },
      "execution_count": 18,
      "outputs": [
        {
          "output_type": "stream",
          "name": "stdout",
          "text": [
            "Epoch 1/5\n",
            "1875/1875 [==============================] - 195s 104ms/step - loss: 0.2067 - accuracy: 0.9514 - val_loss: 0.0854 - val_accuracy: 0.9736\n",
            "Epoch 2/5\n",
            "1875/1875 [==============================] - 192s 102ms/step - loss: 0.0729 - accuracy: 0.9780 - val_loss: 0.0827 - val_accuracy: 0.9755\n",
            "Epoch 3/5\n",
            "1875/1875 [==============================] - 190s 102ms/step - loss: 0.0503 - accuracy: 0.9841 - val_loss: 0.0834 - val_accuracy: 0.9753\n",
            "Epoch 4/5\n",
            "1875/1875 [==============================] - 191s 102ms/step - loss: 0.0387 - accuracy: 0.9875 - val_loss: 0.0911 - val_accuracy: 0.9766\n",
            "Epoch 5/5\n",
            "1875/1875 [==============================] - 190s 101ms/step - loss: 0.0304 - accuracy: 0.9900 - val_loss: 0.1072 - val_accuracy: 0.9743\n"
          ]
        },
        {
          "output_type": "execute_result",
          "data": {
            "text/plain": [
              "<keras.callbacks.History at 0x7f0febb0f7d0>"
            ]
          },
          "metadata": {},
          "execution_count": 18
        }
      ]
    },
    {
      "cell_type": "markdown",
      "source": [
        "#metrics are noticed"
      ],
      "metadata": {
        "id": "acFu5F3aDXzA"
      }
    },
    {
      "cell_type": "code",
      "source": [
        "metrics=model.evaluate(x_test,y_test,verbose=0)\n",
        "print(\"metrics-score=>test loss & accuracy\")\n",
        "print(metrics)"
      ],
      "metadata": {
        "colab": {
          "base_uri": "https://localhost:8080/"
        },
        "id": "5yP8uGcfnGy8",
        "outputId": "5916fb40-1407-4cb3-aede-a5c3c71140cc"
      },
      "execution_count": 19,
      "outputs": [
        {
          "output_type": "stream",
          "name": "stdout",
          "text": [
            "metrics-score=>test loss & accuracy\n",
            "[0.10718905925750732, 0.9743000268936157]\n"
          ]
        }
      ]
    },
    {
      "cell_type": "markdown",
      "source": [
        "#Test the model"
      ],
      "metadata": {
        "id": "lFlkfb4ZDgtE"
      }
    },
    {
      "cell_type": "code",
      "source": [
        "prediction=model.predict(x_test[:5])\n",
        "print(prediction)"
      ],
      "metadata": {
        "colab": {
          "base_uri": "https://localhost:8080/"
        },
        "id": "M3QanolRoit1",
        "outputId": "82f732cf-c34b-4247-81f1-bf0f294f749f"
      },
      "execution_count": 20,
      "outputs": [
        {
          "output_type": "stream",
          "name": "stdout",
          "text": [
            "1/1 [==============================] - 0s 95ms/step\n",
            "[[2.3984072e-12 8.2249497e-18 2.5674106e-07 4.3811013e-08 3.6600208e-17\n",
            "  5.9920649e-14 9.4399419e-21 9.9999976e-01 5.6308075e-10 5.8142757e-12]\n",
            " [2.8003658e-08 7.8760904e-06 9.9999189e-01 3.5861483e-10 6.7744681e-13\n",
            "  3.1280996e-16 1.7902997e-07 3.6837059e-17 9.4017603e-09 6.3471824e-14]\n",
            " [3.1235996e-07 9.7864693e-01 1.0814518e-04 3.0945338e-07 2.0346556e-02\n",
            "  2.0934401e-04 8.7039996e-05 1.9101551e-06 5.9947156e-04 1.3876568e-08]\n",
            " [9.9999964e-01 3.7812548e-13 9.6502546e-08 1.3516953e-10 3.9759778e-13\n",
            "  2.3215474e-10 1.5402920e-08 6.0580927e-15 1.0704141e-09 2.5465903e-07]\n",
            " [2.6469000e-14 2.6259485e-16 8.3910122e-11 9.9937040e-13 1.0000000e+00\n",
            "  5.4162161e-12 7.6958323e-17 5.9262986e-15 1.9667700e-13 7.1877376e-10]]\n"
          ]
        }
      ]
    },
    {
      "cell_type": "code",
      "source": [
        "import numpy as np"
      ],
      "metadata": {
        "id": "rO2-AnS0o946"
      },
      "execution_count": 21,
      "outputs": []
    },
    {
      "cell_type": "code",
      "source": [
        "print(np.argmax(prediction,axis=1))"
      ],
      "metadata": {
        "colab": {
          "base_uri": "https://localhost:8080/"
        },
        "id": "UIGz0xWjo14S",
        "outputId": "25d9a88a-e53c-47bf-8d55-a430bcf1feeb"
      },
      "execution_count": 22,
      "outputs": [
        {
          "output_type": "stream",
          "name": "stdout",
          "text": [
            "[7 2 1 0 4]\n"
          ]
        }
      ]
    },
    {
      "cell_type": "code",
      "source": [
        "print(y_test[:5])"
      ],
      "metadata": {
        "colab": {
          "base_uri": "https://localhost:8080/"
        },
        "id": "qQJLZw5bpAJ5",
        "outputId": "901b9997-cf5c-49d6-ad44-ee9dd6d15698"
      },
      "execution_count": 23,
      "outputs": [
        {
          "output_type": "stream",
          "name": "stdout",
          "text": [
            "[[0. 0. 0. 0. 0. 0. 0. 1. 0. 0.]\n",
            " [0. 0. 1. 0. 0. 0. 0. 0. 0. 0.]\n",
            " [0. 1. 0. 0. 0. 0. 0. 0. 0. 0.]\n",
            " [1. 0. 0. 0. 0. 0. 0. 0. 0. 0.]\n",
            " [0. 0. 0. 0. 1. 0. 0. 0. 0. 0.]]\n"
          ]
        }
      ]
    },
    {
      "cell_type": "markdown",
      "source": [
        "#model saving"
      ],
      "metadata": {
        "id": "bAAx0tw6EQnh"
      }
    },
    {
      "cell_type": "code",
      "source": [
        "model.save('models/mnistcnn.h5')"
      ],
      "metadata": {
        "id": "K_Y_8CK1pEVH"
      },
      "execution_count": 24,
      "outputs": []
    },
    {
      "cell_type": "markdown",
      "source": [
        "#Test the saved model"
      ],
      "metadata": {
        "id": "A1eVTI-CE-gw"
      }
    },
    {
      "cell_type": "markdown",
      "source": [
        "inputs loaded from mnist"
      ],
      "metadata": {
        "id": "AQJfYcV1HBKm"
      }
    },
    {
      "cell_type": "code",
      "source": [
        "print('X_train:' +str(x_train.shape))\n",
        "print('y_train:' +str(y_train.shape))\n",
        "print('X_test:' +str(x_test.shape))\n",
        "print('y_test:' +str(y_test.shape))\n",
        "from matplotlib import pyplot\n",
        "for i in range(9):\n",
        "  pyplot.subplot(330+1+i)\n",
        "  pyplot.imshow(x_train[i], cmap = pyplot.get_cmap('gray'))\n",
        "  pyplot.imshow(x_train[i], cmap = 'gray', vmin=0, vmax=255)\n",
        "  pyplot.show()"
      ],
      "metadata": {
        "id": "iY-POrdvpY-G"
      },
      "execution_count": null,
      "outputs": []
    },
    {
      "cell_type": "markdown",
      "source": [
        "ouput predicted from saved model"
      ],
      "metadata": {
        "id": "2N4TklM_HEMk"
      }
    },
    {
      "cell_type": "markdown",
      "source": [
        "inputs as hown are 5,0,4,1,9,2,1,3,1"
      ],
      "metadata": {
        "id": "Y3zSATnDMLp1"
      }
    },
    {
      "cell_type": "code",
      "source": [
        "from tensorflow.keras.models import load_model\n",
        "model=load_model('models/mnistcnn.h5')\n",
        "from PIL import Image\n",
        "for index in range(9):\n",
        "  img=x_train[index].reshape((28,28))\n",
        "  imgarray=np.array(img)\n",
        "  imgarray=imgarray.reshape(1,28,28,1)\n",
        "  y_pred=model.predict(imgarray)\n",
        "  print(np.argmax(y_pred))"
      ],
      "metadata": {
        "colab": {
          "base_uri": "https://localhost:8080/"
        },
        "id": "rufh8ogFFGs4",
        "outputId": "e59e3907-4421-4d9d-9402-49e292e98408"
      },
      "execution_count": 26,
      "outputs": [
        {
          "output_type": "stream",
          "name": "stdout",
          "text": [
            "1/1 [==============================] - 0s 64ms/step\n",
            "5\n",
            "1/1 [==============================] - 0s 24ms/step\n",
            "0\n",
            "1/1 [==============================] - 0s 20ms/step\n",
            "4\n",
            "1/1 [==============================] - 0s 20ms/step\n",
            "1\n",
            "1/1 [==============================] - 0s 27ms/step\n",
            "9\n",
            "1/1 [==============================] - 0s 21ms/step\n",
            "2\n",
            "1/1 [==============================] - 0s 25ms/step\n",
            "1\n",
            "1/1 [==============================] - 0s 25ms/step\n",
            "3\n",
            "1/1 [==============================] - 0s 22ms/step\n",
            "1\n"
          ]
        }
      ]
    }
  ]
}